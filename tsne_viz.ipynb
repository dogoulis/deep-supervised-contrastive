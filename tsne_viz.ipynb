{
 "cells": [
  {
   "cell_type": "code",
   "execution_count": 1,
   "metadata": {},
   "outputs": [
    {
     "name": "stderr",
     "output_type": "stream",
     "text": [
      "/home/dogoulis/anaconda3/envs/sucocbt/lib/python3.10/site-packages/tqdm/auto.py:22: TqdmWarning: IProgress not found. Please update jupyter and ipywidgets. See https://ipywidgets.readthedocs.io/en/stable/user_install.html\n",
      "  from .autonotebook import tqdm as notebook_tqdm\n"
     ]
    }
   ],
   "source": [
    "import torch\n",
    "from sklearn.manifold import TSNE\n",
    "import numpy as np\n",
    "import timm\n",
    "from src.dataset.augmentations import get_gan_validation_augmentations\n",
    "from src.dataset.GANDataset import dataset2\n",
    "from tqdm import tqdm\n",
    "from torch.utils.data import DataLoader\n",
    "import pandas as pd\n",
    "import seaborn as sns\n",
    "from src.model import Model\n",
    "from torch.utils.data import Dataset, DataLoader\n",
    "import cv2\n",
    "from albumentations.pytorch import ToTensorV2"
   ]
  },
  {
   "cell_type": "code",
   "execution_count": 2,
   "metadata": {},
   "outputs": [],
   "source": [
    "# init model\n",
    "config = {\"projector\":[2048, 8192, 8192, 8192]}\n",
    "model = Model(config=config)\n",
    "#model.load_state_dict(torch.load('./checkpoints/model/best-ckpt.pt'))"
   ]
  },
  {
   "cell_type": "markdown",
   "metadata": {},
   "source": [
    "# DATASET\n",
    "\n",
    "dataset needs to be in the mentioned form:\n",
    "\n",
    "columns = [\"image_path\", \"label\", \"label_2\"]\n",
    "\n",
    "1) image_path = path for the given image\n",
    "2) label = the label of the image (real/fake)\n",
    "3) the encoded label for each deepfake category or real category of the image. \\\n",
    "e.g. GAN DATASET: \\\n",
    "0 = real_ffhq \\\n",
    "1 = real_afhq \\\n",
    "2 = fake_ffhq \\\n",
    ". \\\n",
    ". \\\n",
    ". "
   ]
  },
  {
   "cell_type": "code",
   "execution_count": 3,
   "metadata": {},
   "outputs": [],
   "source": [
    "class dataset_v2(Dataset):\n",
    "\n",
    "    def __init__(self, dataset_path, transforms):\n",
    "        self.dataset = pd.read_csv(dataset_path)\n",
    "        self.imgs = self.dataset.image_path.values\n",
    "        self.labels = self.dataset.label.values\n",
    "        self.id = self.dataset.label_2\n",
    "        self.transforms = transforms\n",
    "\n",
    "    def __len__(self):\n",
    "        return len(self.imgs)\n",
    "\n",
    "    def __getitem__(self, idx):\n",
    "        try:\n",
    "            image = cv2.imread(self.imgs[idx])\n",
    "            image = cv2.cvtColor(image, cv2.COLOR_BGR2RGB)\n",
    "        except:\n",
    "            print(self.imgs[idx])\n",
    "            idx += 1\n",
    "            image = cv2.imread(self.imgs[idx])\n",
    "            image = cv2.cvtColor(image, cv2.COLOR_BGR2RGB)\n",
    "\n",
    "        label = self.labels[idx]\n",
    "        id = self.id[idx]\n",
    "        if self.transforms:\n",
    "            tr_img = self.transforms(image=image)\n",
    "            image = tr_img['image']\n",
    "        else:\n",
    "            image = ToTensorV2(image)\n",
    "        label = torch.tensor(label).float()\n",
    "\n",
    "        return image, label, id"
   ]
  },
  {
   "cell_type": "code",
   "execution_count": 4,
   "metadata": {},
   "outputs": [],
   "source": [
    "@torch.no_grad()\n",
    "def extract_features(model, dataloader):\n",
    "    model.eval()\n",
    "\n",
    "    vectors, id = [], []\n",
    "\n",
    "    for  x, _, image_id in tqdm(dataloader):\n",
    "        \n",
    "        #x = x.to('cuda:0')\n",
    "\n",
    "        # first get the forward features\n",
    "        vector = model(x)\n",
    "        vectors.append(vector.detach().cpu().numpy())\n",
    "\n",
    "        # then append image_id on array\n",
    "        id.append(image_id)\n",
    "\n",
    "    vectors = np.array(vectors)\n",
    "    id = np.array(id)\n",
    "\n",
    "    return vectors, id"
   ]
  },
  {
   "cell_type": "code",
   "execution_count": 5,
   "metadata": {},
   "outputs": [],
   "source": [
    "# init augmentations\n",
    "augs = get_gan_validation_augmentations()\n",
    "# init test_dir\n",
    "test_dir = '/home/dogoulis/WORKSPACE/gan-prediction/data/evaluation/mixed_dataset_viz.csv'"
   ]
  },
  {
   "cell_type": "code",
   "execution_count": 6,
   "metadata": {},
   "outputs": [],
   "source": [
    "test_dataset = dataset_v2(test_dir, transforms=augs)\n",
    "test_dataloader = DataLoader(test_dataset, num_workers=8, batch_size=1, shuffle=False)"
   ]
  },
  {
   "cell_type": "code",
   "execution_count": null,
   "metadata": {},
   "outputs": [],
   "source": []
  },
  {
   "cell_type": "code",
   "execution_count": 7,
   "metadata": {},
   "outputs": [
    {
     "name": "stderr",
     "output_type": "stream",
     "text": [
      "100%|██████████| 6000/6000 [02:43<00:00, 36.75it/s]\n"
     ]
    }
   ],
   "source": [
    "vectors, id = extract_features(model, dataloader=test_dataloader)"
   ]
  },
  {
   "cell_type": "markdown",
   "metadata": {},
   "source": [
    "# Reshaping:"
   ]
  },
  {
   "cell_type": "code",
   "execution_count": 8,
   "metadata": {},
   "outputs": [],
   "source": [
    "len_data = len(test_dataset)\n",
    "\n",
    "vectors = np.reshape(vectors, (len_data, 2048))\n",
    "id = np.reshape(id, (len_data, 1))"
   ]
  },
  {
   "cell_type": "markdown",
   "metadata": {},
   "source": [
    "# Getting tsne embs"
   ]
  },
  {
   "cell_type": "code",
   "execution_count": 9,
   "metadata": {},
   "outputs": [],
   "source": [
    "# init tsne object:\n",
    "tsne = TSNE(n_components=2, random_state=42)"
   ]
  },
  {
   "cell_type": "code",
   "execution_count": 10,
   "metadata": {},
   "outputs": [
    {
     "name": "stderr",
     "output_type": "stream",
     "text": [
      "/home/dogoulis/anaconda3/envs/sucocbt/lib/python3.10/site-packages/sklearn/manifold/_t_sne.py:780: FutureWarning: The default initialization in TSNE will change from 'random' to 'pca' in 1.2.\n",
      "  warnings.warn(\n",
      "/home/dogoulis/anaconda3/envs/sucocbt/lib/python3.10/site-packages/sklearn/manifold/_t_sne.py:790: FutureWarning: The default learning rate in TSNE will change from 200.0 to 'auto' in 1.2.\n",
      "  warnings.warn(\n"
     ]
    }
   ],
   "source": [
    "out_emb = tsne.fit_transform(vectors)"
   ]
  },
  {
   "cell_type": "markdown",
   "metadata": {},
   "source": [
    "# Formating:"
   ]
  },
  {
   "cell_type": "code",
   "execution_count": 11,
   "metadata": {},
   "outputs": [],
   "source": [
    "encoded_series = pd.Series(np.reshape(id, (len_data,)))\n",
    "tsne_df = pd.DataFrame(out_emb, columns=['x1', 'x2'])\n",
    "tsne_df = pd.concat([tsne_df,encoded_series], axis=1)\n",
    "tsne_df.columns = ['x1', 'x2', 'encoded_label']"
   ]
  },
  {
   "cell_type": "markdown",
   "metadata": {},
   "source": [
    "# Visualization"
   ]
  },
  {
   "cell_type": "code",
   "execution_count": 12,
   "metadata": {},
   "outputs": [
    {
     "data": {
      "image/png": "[encoded data removed]",
      "text/plain": [
       "<Figure size 360x360 with 1 Axes>"
      ]
     },
     "metadata": {},
     "output_type": "display_data"
    }
   ],
   "source": [
    "# library & dataset\n",
    "import seaborn as sns\n",
    "import matplotlib.pyplot as plt\n",
    "\n",
    "sns.set(rc = {'figure.figsize':(15,8)}) \n",
    "# Use the 'hue' argument to provide a factor variable\n",
    "sns.lmplot( x=\"x1\", y=\"x2\", data=tsne_df, fit_reg=False, hue='encoded_label', legend=False)\n",
    " \n",
    "# Move the legend to an empty part of the plot\n",
    "plt.legend(loc='lower right', prop={'size': 8})\n",
    "\n",
    "plt.show()"
   ]
  }
 ],
 "metadata": {
  "interpreter": {
   "hash": "f193ba71437f5ef1afb301d39c3de8be3c4a8e46fb9622532bfedd46d0954046"
  },
  "kernelspec": {
   "display_name": "Python 3.10.4 ('sucocbt')",
   "language": "python",
   "name": "python3"
  },
  "language_info": {
   "codemirror_mode": {
    "name": "ipython",
    "version": 3
   },
   "file_extension": ".py",
   "mimetype": "text/x-python",
   "name": "python",
   "nbconvert_exporter": "python",
   "pygments_lexer": "ipython3",
   "version": "3.10.4"
  },
  "orig_nbformat": 4
 },
 "nbformat": 4,
 "nbformat_minor": 2
}
